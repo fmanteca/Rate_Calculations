{
 "cells": [
  {
   "cell_type": "code",
   "execution_count": 1,
   "metadata": {},
   "outputs": [
    {
     "name": "stdout",
     "output_type": "stream",
     "text": [
      "Input dataset name:\n"
     ]
    }
   ],
   "source": [
    "print(\"Input dataset name:\")\n",
    "#dataset = raw_input()\n",
    "dataset = 'HTo2LongLivedTo4b_MH_350_MFF_160_CTau_1000mm'"
   ]
  },
  {
   "cell_type": "code",
   "execution_count": 2,
   "metadata": {},
   "outputs": [],
   "source": [
    "box = False\n",
    "#Setting box=True will only consider signal events that decay right in front of a chamber to be in acceptance"
   ]
  },
  {
   "cell_type": "code",
   "execution_count": 3,
   "metadata": {
    "scrolled": true
   },
   "outputs": [
    {
     "name": "stdout",
     "output_type": "stream",
     "text": [
      "Welcome to JupyROOT 6.26/04\n"
     ]
    }
   ],
   "source": [
    "from ROOT import TFile, TTree\n",
    "from ROOT import gROOT, AddressOf\n",
    "import uproot\n",
    "from array import array\n",
    "from tqdm import tqdm\n",
    "import numpy as np"
   ]
  },
  {
   "cell_type": "code",
   "execution_count": 4,
   "metadata": {},
   "outputs": [],
   "source": [
    "comp_ME11 = array('f', [0.])\n",
    "comp_ME12 = array('f', [0.])\n",
    "comp_ME13 = array('f', [0.])\n",
    "comp_ME21 = array('f', [0.])\n",
    "comp_ME22 = array('f', [0.])\n",
    "comp_ME31 = array('f', [0.])\n",
    "comp_ME32 = array('f', [0.])\n",
    "comp_ME41 = array('f', [0.])\n",
    "comp_ME42 = array('f', [0.])\n",
    "\n",
    "wire_ME11 = array('f', [0.])\n",
    "wire_ME12 = array('f', [0.])\n",
    "wire_ME13 = array('f', [0.])\n",
    "wire_ME21 = array('f', [0.])\n",
    "wire_ME22 = array('f', [0.])\n",
    "wire_ME31 = array('f', [0.])\n",
    "wire_ME32 = array('f', [0.])\n",
    "wire_ME41 = array('f', [0.])\n",
    "wire_ME42 = array('f', [0.])\n"
   ]
  },
  {
   "cell_type": "code",
   "execution_count": 5,
   "metadata": {},
   "outputs": [],
   "source": [
    "in_path = \"/eos/cms/store/group/phys_smp/fernanpe/Eff_Rate/HTo2LongLivedTo4b_MH-350_MFF-160_CTau-1000mm_TuneCP5_14TeV_pythia8/crab_HTo2LongLivedTo4b_MH_350_MFF_160_CTau_1000mm_L1_ANA/220708_191825/0000/out_ana_muonshower_4.root\"\n",
    "#in_path = \"/eos/uscms/store/user/dildick/HTo2LongLivedTo4b_MH-1000_MFF-450_CTau-100000mm_TuneCP5_14TeV_pythia8/crab_HTo2LongLivedTo4b_MH_1000_MFF_450_CTau_100000mm_ANA_20210225_v2/210225_171507/0000/\"+dataset+\".root\"\n",
    "if box:\n",
    "    out_path = \"trees/box_selected/MaxDigis_tree_\" + dataset + \".root\"\n",
    "else:\n",
    "    out_path = \"trees/MaxDigis_tree_\" + dataset + \".root\"\n",
    "\n",
    "f = TFile( out_path, 'RECREATE' )\n",
    "comp_tree = TTree( 'comparator', 'Max Comparator digis in a single chamber in each ring per event' )\n",
    "wire_tree = TTree( 'wire', 'Max Comparator digis in a single chamber in each ring per event' )\n",
    "# tree.Branch( 'digis', digis, 'Ev_max_nComp_ME11/I:Ev_max_nComp_ME12:Ev_max_nComp_ME13:Ev_max_nComp_ME21:Ev_max_nComp_ME22:Ev_max_nComp_ME31:Ev_max_nComp_ME32:Ev_max_nComp_ME41:Ev_max_nComp_ME42:Ev_max_nWire_ME11:Ev_max_nWire_ME12:Ev_max_nWire_ME13:Ev_max_nWire_ME21:Ev_max_nWire_ME22:Ev_max_nWire_ME31:Ev_max_nWire_ME32:Ev_max_nWire_ME41:Ev_max_nWire_ME42',0 )\n",
    "comp_tree.Branch( 'Ev_max_nComp_ME11', comp_ME11, 'comp_ME11/F')\n",
    "comp_tree.Branch( 'Ev_max_nComp_ME12', comp_ME12, 'comp_ME12/F')\n",
    "comp_tree.Branch( 'Ev_max_nComp_ME13', comp_ME13, 'comp_ME13/F')\n",
    "comp_tree.Branch( 'Ev_max_nComp_ME21', comp_ME21, 'comp_ME21/F')\n",
    "comp_tree.Branch( 'Ev_max_nComp_ME22', comp_ME22, 'comp_ME22/F')\n",
    "comp_tree.Branch( 'Ev_max_nComp_ME31', comp_ME31, 'comp_ME31/F')\n",
    "comp_tree.Branch( 'Ev_max_nComp_ME32', comp_ME32, 'comp_ME32/F')\n",
    "comp_tree.Branch( 'Ev_max_nComp_ME41', comp_ME41, 'comp_ME41/F')\n",
    "comp_tree.Branch( 'Ev_max_nComp_ME42', comp_ME42, 'comp_ME42/F')\n",
    "\n",
    "wire_tree.Branch( 'Ev_max_nWire_ME11', wire_ME11, 'wire_ME11/F')\n",
    "wire_tree.Branch( 'Ev_max_nWire_ME12', wire_ME12, 'wire_ME12/F')\n",
    "wire_tree.Branch( 'Ev_max_nWire_ME13', wire_ME13, 'wire_ME13/F')\n",
    "wire_tree.Branch( 'Ev_max_nWire_ME21', wire_ME21, 'wire_ME21/F')\n",
    "wire_tree.Branch( 'Ev_max_nWire_ME22', wire_ME22, 'wire_ME22/F')\n",
    "wire_tree.Branch( 'Ev_max_nWire_ME31', wire_ME31, 'wire_ME31/F')\n",
    "wire_tree.Branch( 'Ev_max_nWire_ME32', wire_ME32, 'wire_ME32/F')\n",
    "wire_tree.Branch( 'Ev_max_nWire_ME41', wire_ME41, 'wire_ME41/F')\n",
    "wire_tree.Branch( 'Ev_max_nWire_ME42', wire_ME42, 'wire_ME42/F')\n",
    "\n",
    "if dataset==\"Data_pre-selected\":\n",
    "    comp_pass_list = open(\"passlists/comp_pass_list.txt\",\"w\")\n",
    "    wire_pass_list = open(\"passlists/wire_pass_list.txt\",\"w\")\n",
    "    comp_last_text = \"\"\n",
    "    wire_last_text = \"\"\n",
    "    compXX = [98, 56, 30, 49, 42, 49, 35, 42, 31]\n",
    "    wireXX = [104, 92, 32, 133, 83, 130, 74, 127, 88]\n",
    "    comp_pass_count = 0\n",
    "    wire_pass_count = 0"
   ]
  },
  {
   "cell_type": "code",
   "execution_count": 6,
   "metadata": {},
   "outputs": [],
   "source": [
    "if dataset==\"Data\" or dataset==\"Data_pre-selected\":\n",
    "  MC = False\n",
    "  Neutrino = False\n",
    "elif dataset==\"Neutrino_gun\" or dataset==\"Nu_E10-pythia8-gun\":\n",
    "  MC = False\n",
    "  Neutrino = True\n",
    "else:\n",
    "  MC = True\n",
    "  Neutrino = False\n",
    "\n",
    "if MC:\n",
    "  File = TFile(in_path,\"READ\")\n",
    "elif Neutrino:\n",
    "  File = TFile(\"/uscms/home/menendez/nobackup/Trigger/CMSSW_10_6_4/src/Data/TPEHists_Neutrino_gun.root\",\"READ\")\n",
    "else:\n",
    "  #File = TFile(\"/uscms/home/menendez/nobackup/Trigger/CMSSW_10_6_4/src/Data/TPEHists_Data.root\",\"READ\")\n",
    "  File = TFile(in_path,\"READ\")\n",
    "clct = File.Get(\"MuonNtuplizerCath/FlatTree\")\n",
    "alct = File.Get(\"MuonNtuplizerAnod/FlatTree\")\n",
    "llp = File.Get(\"MuonNtuplizer/FlatTree\")\n",
    "\n",
    "nEntries_clct = clct.GetEntries()\n",
    "nEntries_alct = alct.GetEntries()\n",
    "if MC:\n",
    "  nEntries_llp = llp.GetEntries()"
   ]
  },
  {
   "cell_type": "code",
   "execution_count": 7,
   "metadata": {},
   "outputs": [],
   "source": [
    "llp_accept = []\n",
    "#max_nComp = np.array([0,0,0,0],[0,0,0,0],[0,0,0,0],[0,0,0,0],[0,0,0,0])\n",
    "max_nComp = np.zeros((5,4))\n",
    "max_nWire = np.zeros((5,4))\n",
    "lastEventclct = 0\n",
    "lastEventalct = 0\n",
    "good_times = [6,7,8]\n",
    "n_big = 0"
   ]
  },
  {
   "cell_type": "code",
   "execution_count": 8,
   "metadata": {},
   "outputs": [],
   "source": [
    "#Used for box selection\n",
    "zMin = [4.5,5.7,5.8,7,7,8,8,9,9]\n",
    "zMax = [5.5,6.7,6.8,8,8,9,9,10,10]\n",
    "rMin = [1.0,2.5,4.7,1.4,3.5,1.6,3.5,1.8,3.5]\n",
    "rMax = [2.8,4.5,6.8,3.5,7.0,3.5,7.0,3.5,7.0]"
   ]
  },
  {
   "cell_type": "code",
   "execution_count": 9,
   "metadata": {},
   "outputs": [],
   "source": [
    "def get_R(x,y):\n",
    "    R = np.sqrt(np.square(x) + np.square(y))\n",
    "    return R"
   ]
  },
  {
   "cell_type": "code",
   "execution_count": null,
   "metadata": {},
   "outputs": [],
   "source": [
    "passed=0\n",
    "if MC:\n",
    "    print \"Finding LLP Acceptance\"\n",
    "    for i in tqdm(range(0, nEntries_llp)):\n",
    "        llp.GetEntry(i)\n",
    "\n",
    "        if(llp.gen_llp_in_acceptance[0]==1 or llp.gen_llp_in_acceptance[1]==1):\n",
    "            if box:\n",
    "                for nlp in range(0,2):\n",
    "                    R = get_R((llp.llp_decay_x[nlp]/100),(llp.llp_decay_y[nlp]/100))\n",
    "                    for cut in range(0,len(zMin)):\n",
    "                        if(abs(llp.llp_decay_z[nlp]/100) > zMin[cut] and abs(llp.llp_decay_z[nlp]/100) < zMax[cut] and R > rMin[cut] and R < rMax[cut]):\n",
    "                            llp_accept.append(llp.event)\n",
    "                            passed+=1\n",
    "                            break\n",
    "            else:\n",
    "                llp_accept.append(llp.event)\n",
    "                passed+=1\n",
    "                        \n",
    "print \"# passed = \" + str(passed)"
   ]
  },
  {
   "cell_type": "code",
   "execution_count": null,
   "metadata": {},
   "outputs": [],
   "source": [
    "print \"Starting CLCT Analysis\"\n",
    "for i in tqdm(range(0, nEntries_clct)):\n",
    "    clct.GetEntry(i)\n",
    "\n",
    "    if MC:\n",
    "        if clct.t_Event not in llp_accept:\n",
    "            continue\n",
    "            \n",
    "    in_time = False\n",
    "    nComp = 0\n",
    "    for compy in range(len(clct.t_compTimes)):\n",
    "        for bx in range(len(clct.t_compTimes[compy])):\n",
    "            if clct.t_compTimes[compy][bx] in good_times:\n",
    "                in_time = True\n",
    "                nComp += 1\n",
    "    if not in_time: continue\n",
    "    \n",
    "    if(clct.t_Event!=lastEventclct):\n",
    "        lastEventclct = clct.t_Event\n",
    "\n",
    "        comp_ME11[0] = max_nComp[1][1]\n",
    "        comp_ME12[0] = max_nComp[1][2]\n",
    "        comp_ME13[0] = max_nComp[1][3]\n",
    "        comp_ME21[0] = max_nComp[2][1]\n",
    "        comp_ME22[0] = max_nComp[2][2]\n",
    "        comp_ME31[0] = max_nComp[3][1]\n",
    "        comp_ME32[0] = max_nComp[3][2]\n",
    "        comp_ME41[0] = max_nComp[4][1]\n",
    "        comp_ME42[0] = max_nComp[4][2]\n",
    "        max_nComp = np.zeros((5,4))\n",
    "\n",
    "        comp_tree.Fill()\n",
    "       \n",
    "        \n",
    "    if nComp > max_nComp[clct.t_station][clct.t_ring]:\n",
    "        max_nComp[clct.t_station][clct.t_ring] = nComp\n",
    "   \n",
    "    if dataset==\"Data_pre-selected\":\n",
    "        if (max_nComp[1][1]>compXX[0] or max_nComp[1][2]>compXX[1] or max_nComp[1][3]>compXX[2] or\n",
    "            max_nComp[2][1]>compXX[3] or max_nComp[2][2]>compXX[4] or\n",
    "            max_nComp[3][1]>compXX[5] or max_nComp[3][2]>compXX[6] or\n",
    "            max_nComp[4][1]>compXX[7] or max_nComp[4][2]>compXX[8]):\n",
    "\n",
    "            comp_pass_text = \"%i:%i:%d\\n\" % (clct.t_Run,clct.t_Lumi,clct.t_Event)\n",
    "            if comp_pass_text!=comp_last_text:\n",
    "                comp_pass_list.write(comp_pass_text)\n",
    "                comp_pass_count+=1\n",
    "            comp_last_text = comp_pass_text\n",
    "\n",
    "if dataset==\"Data_pre-selected\":\n",
    "    print \"%i events passed cut\" %(comp_pass_count)"
   ]
  },
  {
   "cell_type": "code",
   "execution_count": null,
   "metadata": {},
   "outputs": [],
   "source": [
    "print \"Starting ALCT Analysis\"\n",
    "for i in tqdm(range(0, nEntries_alct)):\n",
    "    alct.GetEntry(i)\n",
    "\n",
    "    if MC:\n",
    "        if alct.t_Event not in llp_accept:\n",
    "            continue\n",
    "            \n",
    "    in_time = False\n",
    "    nWire = 0\n",
    "    for wirey in range(len(alct.t_wireTimes)):\n",
    "        for bx in range(len(alct.t_wireTimes[wirey])):\n",
    "            if alct.t_wireTimes[wirey][bx] in good_times:\n",
    "                in_time = True\n",
    "                nWire += 1\n",
    "    if not in_time: continue\n",
    "\n",
    "    if(alct.t_Event!=lastEventalct):\n",
    "        lastEventalct = alct.t_Event\n",
    "\n",
    "        wire_ME11[0] = max_nWire[1][1]\n",
    "        wire_ME12[0] = max_nWire[1][2]\n",
    "        wire_ME13[0] = max_nWire[1][3]\n",
    "        wire_ME21[0] = max_nWire[2][1]\n",
    "        wire_ME22[0] = max_nWire[2][2]\n",
    "        wire_ME31[0] = max_nWire[3][1]\n",
    "        wire_ME32[0] = max_nWire[3][2]\n",
    "        wire_ME41[0] = max_nWire[4][1]\n",
    "        wire_ME42[0] = max_nWire[4][2]\n",
    "        max_nWire = np.zeros((5,4))\n",
    "\n",
    "        wire_tree.Fill()\n",
    "\n",
    "\n",
    "    if nWire > max_nWire[alct.t_station][alct.t_ring]:\n",
    "        max_nWire[alct.t_station][alct.t_ring] = nWire\n",
    "\n",
    "    if dataset==\"Data_pre-selected\":\n",
    "        if (max_nWire[1][1]>wireXX[0] or max_nWire[1][2]>wireXX[1] or max_nWire[1][3]>wireXX[2] or\n",
    "            max_nWire[2][1]>wireXX[3] or max_nWire[2][2]>wireXX[4] or\n",
    "            max_nWire[3][1]>wireXX[5] or max_nWire[3][2]>wireXX[6] or\n",
    "            max_nWire[4][1]>wireXX[7] or max_nWire[4][2]>wireXX[8]):\n",
    "\n",
    "            wire_pass_text = \"%i:%i:%d\\n\" % (alct.t_Run,alct.t_Lumi,alct.t_Event)\n",
    "            if wire_pass_text!=wire_last_text:\n",
    "                wire_pass_list.write(wire_pass_text)\n",
    "                wire_pass_count+=1\n",
    "            wire_last_text = wire_pass_text\n",
    "    \n",
    "if dataset==\"Data_pre-selected\":\n",
    "    print \"%i events passed cut\" %(wire_pass_count)"
   ]
  },
  {
   "cell_type": "code",
   "execution_count": null,
   "metadata": {},
   "outputs": [],
   "source": [
    "f.Write()\n",
    "f.Close()\n",
    "if dataset==\"Data_pre-selected\":\n",
    "    comp_pass_list.close()\n",
    "    wire_pass_list.close()"
   ]
  },
  {
   "cell_type": "code",
   "execution_count": null,
   "metadata": {},
   "outputs": [],
   "source": []
  },
  {
   "cell_type": "code",
   "execution_count": null,
   "metadata": {},
   "outputs": [],
   "source": []
  }
 ],
 "metadata": {
  "kernelspec": {
   "display_name": "Python 3",
   "language": "python",
   "name": "python3"
  },
  "language_info": {
   "codemirror_mode": {
    "name": "ipython",
    "version": 3
   },
   "file_extension": ".py",
   "mimetype": "text/x-python",
   "name": "python",
   "nbconvert_exporter": "python",
   "pygments_lexer": "ipython3",
   "version": "3.9.12"
  }
 },
 "nbformat": 4,
 "nbformat_minor": 2
}
